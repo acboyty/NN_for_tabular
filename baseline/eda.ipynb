{
 "metadata": {
  "language_info": {
   "codemirror_mode": {
    "name": "ipython",
    "version": 3
   },
   "file_extension": ".py",
   "mimetype": "text/x-python",
   "name": "python",
   "nbconvert_exporter": "python",
   "pygments_lexer": "ipython3",
   "version": "3.7.9-final"
  },
  "orig_nbformat": 2,
  "kernelspec": {
   "name": "python3",
   "display_name": "Python 3.7.9 64-bit ('py37_pytorch': conda)",
   "metadata": {
    "interpreter": {
     "hash": "b5079757533a07d523b22964b5bda6a42550d36e9c94eb5f662e38c34376cbf3"
    }
   }
  }
 },
 "nbformat": 4,
 "nbformat_minor": 2,
 "cells": [
  {
   "cell_type": "code",
   "execution_count": 2,
   "metadata": {},
   "outputs": [],
   "source": [
    "import pandas as pd \n",
    "from sklearn.metrics import log_loss\n",
    "from catboost.datasets import amazon"
   ]
  },
  {
   "cell_type": "code",
   "execution_count": 3,
   "metadata": {},
   "outputs": [],
   "source": [
    "train_df, test_df = amazon()"
   ]
  },
  {
   "cell_type": "code",
   "execution_count": 4,
   "metadata": {},
   "outputs": [
    {
     "output_type": "execute_result",
     "data": {
      "text/plain": [
       "          id  RESOURCE  MGR_ID  ROLE_ROLLUP_1  ROLE_ROLLUP_2  ROLE_DEPTNAME  \\\n",
       "0          1     78766   72734         118079         118080         117878   \n",
       "1          2     40644    4378         117961         118327         118507   \n",
       "2          3     75443    2395         117961         118300         119488   \n",
       "3          4     43219   19986         117961         118225         118403   \n",
       "4          5     42093   50015         117961         118343         119598   \n",
       "...      ...       ...     ...            ...            ...            ...   \n",
       "58916  58917     75078    4565         117961         118386         121961   \n",
       "58917  58918      6977   72209         117961         118225         124948   \n",
       "58918  58919     39262    6114         117961         118343           6104   \n",
       "58919  58920      1023    8674         117961         118327         120318   \n",
       "58920  58921     44977    3918         117961         118343         118660   \n",
       "\n",
       "       ROLE_TITLE  ROLE_FAMILY_DESC  ROLE_FAMILY  ROLE_CODE  \n",
       "0          117879            118177        19721     117880  \n",
       "1          118863            122008       118398     118865  \n",
       "2          118172            301534       249618     118175  \n",
       "3          120773            136187       118960     120774  \n",
       "4          118422            300136       118424     118425  \n",
       "...           ...               ...          ...        ...  \n",
       "58916      118784            117906       290919     118786  \n",
       "58917      118054            118054       117887     118055  \n",
       "58918      118278            118260       290919     118279  \n",
       "58919      118321            117906       290919     118322  \n",
       "58920      119433            133686       118424     119435  \n",
       "\n",
       "[58921 rows x 10 columns]"
      ],
      "text/html": "<div>\n<style scoped>\n    .dataframe tbody tr th:only-of-type {\n        vertical-align: middle;\n    }\n\n    .dataframe tbody tr th {\n        vertical-align: top;\n    }\n\n    .dataframe thead th {\n        text-align: right;\n    }\n</style>\n<table border=\"1\" class=\"dataframe\">\n  <thead>\n    <tr style=\"text-align: right;\">\n      <th></th>\n      <th>id</th>\n      <th>RESOURCE</th>\n      <th>MGR_ID</th>\n      <th>ROLE_ROLLUP_1</th>\n      <th>ROLE_ROLLUP_2</th>\n      <th>ROLE_DEPTNAME</th>\n      <th>ROLE_TITLE</th>\n      <th>ROLE_FAMILY_DESC</th>\n      <th>ROLE_FAMILY</th>\n      <th>ROLE_CODE</th>\n    </tr>\n  </thead>\n  <tbody>\n    <tr>\n      <th>0</th>\n      <td>1</td>\n      <td>78766</td>\n      <td>72734</td>\n      <td>118079</td>\n      <td>118080</td>\n      <td>117878</td>\n      <td>117879</td>\n      <td>118177</td>\n      <td>19721</td>\n      <td>117880</td>\n    </tr>\n    <tr>\n      <th>1</th>\n      <td>2</td>\n      <td>40644</td>\n      <td>4378</td>\n      <td>117961</td>\n      <td>118327</td>\n      <td>118507</td>\n      <td>118863</td>\n      <td>122008</td>\n      <td>118398</td>\n      <td>118865</td>\n    </tr>\n    <tr>\n      <th>2</th>\n      <td>3</td>\n      <td>75443</td>\n      <td>2395</td>\n      <td>117961</td>\n      <td>118300</td>\n      <td>119488</td>\n      <td>118172</td>\n      <td>301534</td>\n      <td>249618</td>\n      <td>118175</td>\n    </tr>\n    <tr>\n      <th>3</th>\n      <td>4</td>\n      <td>43219</td>\n      <td>19986</td>\n      <td>117961</td>\n      <td>118225</td>\n      <td>118403</td>\n      <td>120773</td>\n      <td>136187</td>\n      <td>118960</td>\n      <td>120774</td>\n    </tr>\n    <tr>\n      <th>4</th>\n      <td>5</td>\n      <td>42093</td>\n      <td>50015</td>\n      <td>117961</td>\n      <td>118343</td>\n      <td>119598</td>\n      <td>118422</td>\n      <td>300136</td>\n      <td>118424</td>\n      <td>118425</td>\n    </tr>\n    <tr>\n      <th>...</th>\n      <td>...</td>\n      <td>...</td>\n      <td>...</td>\n      <td>...</td>\n      <td>...</td>\n      <td>...</td>\n      <td>...</td>\n      <td>...</td>\n      <td>...</td>\n      <td>...</td>\n    </tr>\n    <tr>\n      <th>58916</th>\n      <td>58917</td>\n      <td>75078</td>\n      <td>4565</td>\n      <td>117961</td>\n      <td>118386</td>\n      <td>121961</td>\n      <td>118784</td>\n      <td>117906</td>\n      <td>290919</td>\n      <td>118786</td>\n    </tr>\n    <tr>\n      <th>58917</th>\n      <td>58918</td>\n      <td>6977</td>\n      <td>72209</td>\n      <td>117961</td>\n      <td>118225</td>\n      <td>124948</td>\n      <td>118054</td>\n      <td>118054</td>\n      <td>117887</td>\n      <td>118055</td>\n    </tr>\n    <tr>\n      <th>58918</th>\n      <td>58919</td>\n      <td>39262</td>\n      <td>6114</td>\n      <td>117961</td>\n      <td>118343</td>\n      <td>6104</td>\n      <td>118278</td>\n      <td>118260</td>\n      <td>290919</td>\n      <td>118279</td>\n    </tr>\n    <tr>\n      <th>58919</th>\n      <td>58920</td>\n      <td>1023</td>\n      <td>8674</td>\n      <td>117961</td>\n      <td>118327</td>\n      <td>120318</td>\n      <td>118321</td>\n      <td>117906</td>\n      <td>290919</td>\n      <td>118322</td>\n    </tr>\n    <tr>\n      <th>58920</th>\n      <td>58921</td>\n      <td>44977</td>\n      <td>3918</td>\n      <td>117961</td>\n      <td>118343</td>\n      <td>118660</td>\n      <td>119433</td>\n      <td>133686</td>\n      <td>118424</td>\n      <td>119435</td>\n    </tr>\n  </tbody>\n</table>\n<p>58921 rows × 10 columns</p>\n</div>"
     },
     "metadata": {},
     "execution_count": 4
    }
   ],
   "source": [
    "test_df"
   ]
  },
  {
   "cell_type": "code",
   "execution_count": 3,
   "metadata": {},
   "outputs": [
    {
     "output_type": "execute_result",
     "data": {
      "text/plain": [
       "       ACTION  RESOURCE  MGR_ID  ROLE_ROLLUP_1  ROLE_ROLLUP_2  ROLE_DEPTNAME  \\\n",
       "0           1     39353   85475         117961         118300         123472   \n",
       "1           1     17183    1540         117961         118343         123125   \n",
       "2           1     36724   14457         118219         118220         117884   \n",
       "3           1     36135    5396         117961         118343         119993   \n",
       "4           1     42680    5905         117929         117930         119569   \n",
       "...       ...       ...     ...            ...            ...            ...   \n",
       "32764       1     23497   16971         117961         118300         119993   \n",
       "32765       1     25139  311198          91261         118026         122392   \n",
       "32766       1     34924   28805         117961         118327         120299   \n",
       "32767       1     80574   55643         118256         118257         117945   \n",
       "32768       1     14354   59575         117916         118150         117920   \n",
       "\n",
       "       ROLE_TITLE  ROLE_FAMILY_DESC  ROLE_FAMILY  ROLE_CODE  \n",
       "0          117905            117906       290919     117908  \n",
       "1          118536            118536       308574     118539  \n",
       "2          117879            267952        19721     117880  \n",
       "3          118321            240983       290919     118322  \n",
       "4          119323            123932        19793     119325  \n",
       "...           ...               ...          ...        ...  \n",
       "32764      118321            240983       290919     118322  \n",
       "32765      121143            173805       249618     121145  \n",
       "32766      124922            152038       118612     124924  \n",
       "32767      280788            280788       292795     119082  \n",
       "32768      118568            122142        19721     118570  \n",
       "\n",
       "[32769 rows x 10 columns]"
      ],
      "text/html": "<div>\n<style scoped>\n    .dataframe tbody tr th:only-of-type {\n        vertical-align: middle;\n    }\n\n    .dataframe tbody tr th {\n        vertical-align: top;\n    }\n\n    .dataframe thead th {\n        text-align: right;\n    }\n</style>\n<table border=\"1\" class=\"dataframe\">\n  <thead>\n    <tr style=\"text-align: right;\">\n      <th></th>\n      <th>ACTION</th>\n      <th>RESOURCE</th>\n      <th>MGR_ID</th>\n      <th>ROLE_ROLLUP_1</th>\n      <th>ROLE_ROLLUP_2</th>\n      <th>ROLE_DEPTNAME</th>\n      <th>ROLE_TITLE</th>\n      <th>ROLE_FAMILY_DESC</th>\n      <th>ROLE_FAMILY</th>\n      <th>ROLE_CODE</th>\n    </tr>\n  </thead>\n  <tbody>\n    <tr>\n      <th>0</th>\n      <td>1</td>\n      <td>39353</td>\n      <td>85475</td>\n      <td>117961</td>\n      <td>118300</td>\n      <td>123472</td>\n      <td>117905</td>\n      <td>117906</td>\n      <td>290919</td>\n      <td>117908</td>\n    </tr>\n    <tr>\n      <th>1</th>\n      <td>1</td>\n      <td>17183</td>\n      <td>1540</td>\n      <td>117961</td>\n      <td>118343</td>\n      <td>123125</td>\n      <td>118536</td>\n      <td>118536</td>\n      <td>308574</td>\n      <td>118539</td>\n    </tr>\n    <tr>\n      <th>2</th>\n      <td>1</td>\n      <td>36724</td>\n      <td>14457</td>\n      <td>118219</td>\n      <td>118220</td>\n      <td>117884</td>\n      <td>117879</td>\n      <td>267952</td>\n      <td>19721</td>\n      <td>117880</td>\n    </tr>\n    <tr>\n      <th>3</th>\n      <td>1</td>\n      <td>36135</td>\n      <td>5396</td>\n      <td>117961</td>\n      <td>118343</td>\n      <td>119993</td>\n      <td>118321</td>\n      <td>240983</td>\n      <td>290919</td>\n      <td>118322</td>\n    </tr>\n    <tr>\n      <th>4</th>\n      <td>1</td>\n      <td>42680</td>\n      <td>5905</td>\n      <td>117929</td>\n      <td>117930</td>\n      <td>119569</td>\n      <td>119323</td>\n      <td>123932</td>\n      <td>19793</td>\n      <td>119325</td>\n    </tr>\n    <tr>\n      <th>...</th>\n      <td>...</td>\n      <td>...</td>\n      <td>...</td>\n      <td>...</td>\n      <td>...</td>\n      <td>...</td>\n      <td>...</td>\n      <td>...</td>\n      <td>...</td>\n      <td>...</td>\n    </tr>\n    <tr>\n      <th>32764</th>\n      <td>1</td>\n      <td>23497</td>\n      <td>16971</td>\n      <td>117961</td>\n      <td>118300</td>\n      <td>119993</td>\n      <td>118321</td>\n      <td>240983</td>\n      <td>290919</td>\n      <td>118322</td>\n    </tr>\n    <tr>\n      <th>32765</th>\n      <td>1</td>\n      <td>25139</td>\n      <td>311198</td>\n      <td>91261</td>\n      <td>118026</td>\n      <td>122392</td>\n      <td>121143</td>\n      <td>173805</td>\n      <td>249618</td>\n      <td>121145</td>\n    </tr>\n    <tr>\n      <th>32766</th>\n      <td>1</td>\n      <td>34924</td>\n      <td>28805</td>\n      <td>117961</td>\n      <td>118327</td>\n      <td>120299</td>\n      <td>124922</td>\n      <td>152038</td>\n      <td>118612</td>\n      <td>124924</td>\n    </tr>\n    <tr>\n      <th>32767</th>\n      <td>1</td>\n      <td>80574</td>\n      <td>55643</td>\n      <td>118256</td>\n      <td>118257</td>\n      <td>117945</td>\n      <td>280788</td>\n      <td>280788</td>\n      <td>292795</td>\n      <td>119082</td>\n    </tr>\n    <tr>\n      <th>32768</th>\n      <td>1</td>\n      <td>14354</td>\n      <td>59575</td>\n      <td>117916</td>\n      <td>118150</td>\n      <td>117920</td>\n      <td>118568</td>\n      <td>122142</td>\n      <td>19721</td>\n      <td>118570</td>\n    </tr>\n  </tbody>\n</table>\n<p>32769 rows × 10 columns</p>\n</div>"
     },
     "metadata": {},
     "execution_count": 3
    }
   ],
   "source": [
    "df = pd.read_csv('../datasets/Amazon/train.csv')\n",
    "df "
   ]
  },
  {
   "cell_type": "code",
   "execution_count": 8,
   "metadata": {},
   "outputs": [
    {
     "output_type": "execute_result",
     "data": {
      "text/plain": [
       "       RESOURCE  MGR_ID  ROLE_ROLLUP_1  ROLE_ROLLUP_2  ROLE_DEPTNAME  \\\n",
       "id                                                                     \n",
       "1         78766   72734         118079         118080         117878   \n",
       "2         40644    4378         117961         118327         118507   \n",
       "3         75443    2395         117961         118300         119488   \n",
       "4         43219   19986         117961         118225         118403   \n",
       "5         42093   50015         117961         118343         119598   \n",
       "...         ...     ...            ...            ...            ...   \n",
       "58917     75078    4565         117961         118386         121961   \n",
       "58918      6977   72209         117961         118225         124948   \n",
       "58919     39262    6114         117961         118343           6104   \n",
       "58920      1023    8674         117961         118327         120318   \n",
       "58921     44977    3918         117961         118343         118660   \n",
       "\n",
       "       ROLE_TITLE  ROLE_FAMILY_DESC  ROLE_FAMILY  ROLE_CODE  \n",
       "id                                                           \n",
       "1          117879            118177        19721     117880  \n",
       "2          118863            122008       118398     118865  \n",
       "3          118172            301534       249618     118175  \n",
       "4          120773            136187       118960     120774  \n",
       "5          118422            300136       118424     118425  \n",
       "...           ...               ...          ...        ...  \n",
       "58917      118784            117906       290919     118786  \n",
       "58918      118054            118054       117887     118055  \n",
       "58919      118278            118260       290919     118279  \n",
       "58920      118321            117906       290919     118322  \n",
       "58921      119433            133686       118424     119435  \n",
       "\n",
       "[58921 rows x 9 columns]"
      ],
      "text/html": "<div>\n<style scoped>\n    .dataframe tbody tr th:only-of-type {\n        vertical-align: middle;\n    }\n\n    .dataframe tbody tr th {\n        vertical-align: top;\n    }\n\n    .dataframe thead th {\n        text-align: right;\n    }\n</style>\n<table border=\"1\" class=\"dataframe\">\n  <thead>\n    <tr style=\"text-align: right;\">\n      <th></th>\n      <th>RESOURCE</th>\n      <th>MGR_ID</th>\n      <th>ROLE_ROLLUP_1</th>\n      <th>ROLE_ROLLUP_2</th>\n      <th>ROLE_DEPTNAME</th>\n      <th>ROLE_TITLE</th>\n      <th>ROLE_FAMILY_DESC</th>\n      <th>ROLE_FAMILY</th>\n      <th>ROLE_CODE</th>\n    </tr>\n    <tr>\n      <th>id</th>\n      <th></th>\n      <th></th>\n      <th></th>\n      <th></th>\n      <th></th>\n      <th></th>\n      <th></th>\n      <th></th>\n      <th></th>\n    </tr>\n  </thead>\n  <tbody>\n    <tr>\n      <th>1</th>\n      <td>78766</td>\n      <td>72734</td>\n      <td>118079</td>\n      <td>118080</td>\n      <td>117878</td>\n      <td>117879</td>\n      <td>118177</td>\n      <td>19721</td>\n      <td>117880</td>\n    </tr>\n    <tr>\n      <th>2</th>\n      <td>40644</td>\n      <td>4378</td>\n      <td>117961</td>\n      <td>118327</td>\n      <td>118507</td>\n      <td>118863</td>\n      <td>122008</td>\n      <td>118398</td>\n      <td>118865</td>\n    </tr>\n    <tr>\n      <th>3</th>\n      <td>75443</td>\n      <td>2395</td>\n      <td>117961</td>\n      <td>118300</td>\n      <td>119488</td>\n      <td>118172</td>\n      <td>301534</td>\n      <td>249618</td>\n      <td>118175</td>\n    </tr>\n    <tr>\n      <th>4</th>\n      <td>43219</td>\n      <td>19986</td>\n      <td>117961</td>\n      <td>118225</td>\n      <td>118403</td>\n      <td>120773</td>\n      <td>136187</td>\n      <td>118960</td>\n      <td>120774</td>\n    </tr>\n    <tr>\n      <th>5</th>\n      <td>42093</td>\n      <td>50015</td>\n      <td>117961</td>\n      <td>118343</td>\n      <td>119598</td>\n      <td>118422</td>\n      <td>300136</td>\n      <td>118424</td>\n      <td>118425</td>\n    </tr>\n    <tr>\n      <th>...</th>\n      <td>...</td>\n      <td>...</td>\n      <td>...</td>\n      <td>...</td>\n      <td>...</td>\n      <td>...</td>\n      <td>...</td>\n      <td>...</td>\n      <td>...</td>\n    </tr>\n    <tr>\n      <th>58917</th>\n      <td>75078</td>\n      <td>4565</td>\n      <td>117961</td>\n      <td>118386</td>\n      <td>121961</td>\n      <td>118784</td>\n      <td>117906</td>\n      <td>290919</td>\n      <td>118786</td>\n    </tr>\n    <tr>\n      <th>58918</th>\n      <td>6977</td>\n      <td>72209</td>\n      <td>117961</td>\n      <td>118225</td>\n      <td>124948</td>\n      <td>118054</td>\n      <td>118054</td>\n      <td>117887</td>\n      <td>118055</td>\n    </tr>\n    <tr>\n      <th>58919</th>\n      <td>39262</td>\n      <td>6114</td>\n      <td>117961</td>\n      <td>118343</td>\n      <td>6104</td>\n      <td>118278</td>\n      <td>118260</td>\n      <td>290919</td>\n      <td>118279</td>\n    </tr>\n    <tr>\n      <th>58920</th>\n      <td>1023</td>\n      <td>8674</td>\n      <td>117961</td>\n      <td>118327</td>\n      <td>120318</td>\n      <td>118321</td>\n      <td>117906</td>\n      <td>290919</td>\n      <td>118322</td>\n    </tr>\n    <tr>\n      <th>58921</th>\n      <td>44977</td>\n      <td>3918</td>\n      <td>117961</td>\n      <td>118343</td>\n      <td>118660</td>\n      <td>119433</td>\n      <td>133686</td>\n      <td>118424</td>\n      <td>119435</td>\n    </tr>\n  </tbody>\n</table>\n<p>58921 rows × 9 columns</p>\n</div>"
     },
     "metadata": {},
     "execution_count": 8
    }
   ],
   "source": [
    "df = pd.read_csv('../datasets/Amazon/test.csv', index_col='id')\n",
    "df "
   ]
  }
 ]
}